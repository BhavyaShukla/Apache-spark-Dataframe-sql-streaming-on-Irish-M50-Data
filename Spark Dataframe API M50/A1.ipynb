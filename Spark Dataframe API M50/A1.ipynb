{
 "cells": [
  {
   "cell_type": "code",
   "execution_count": 233,
   "metadata": {},
   "outputs": [],
   "source": [
    "#Irish M50 Highway Dataset  \n",
    "from pyspark.sql import SparkSession\n",
    "spark=SparkSession.builder.getOrCreate()\n",
    "from pyspark.sql.functions import col,udf,lit\n",
    "from pyspark.sql.types import StringType\n",
    "df = spark.read.csv('/home/bhavyamilanshukla/per-vehicle-records-2020-01-31.csv',\n",
    "inferSchema = True, header = True)\n",
    "count = df.count()\n",
    "m50=[15012,15011,15010,1507,1506,1505,1504,1509,1503,1508,1502,1501,1500,1012]"
   ]
  },
  {
   "cell_type": "code",
   "execution_count": 234,
   "metadata": {},
   "outputs": [
    {
     "name": "stdout",
     "output_type": "stream",
     "text": [
      "+---------+-------+--------------------+\n",
      "|classname|  count|          Percentage|\n",
      "+---------+-------+--------------------+\n",
      "|      CAR|3804948|   80.25858594040196|\n",
      "|  HGV_ART| 208477|  4.3974501678070705|\n",
      "|      BUS|  32575|  0.6871114761643508|\n",
      "|  HGV_RIG| 129477|  2.7310861887745705|\n",
      "|     null|    347|0.007319345578788325|\n",
      "|  CARAVAN|  20344|  0.4291203644232556|\n",
      "|      LGV| 530714|  11.194464465420943|\n",
      "|    MBIKE|  13979| 0.29486205142905475|\n",
      "+---------+-------+--------------------+\n",
      "\n"
     ]
    }
   ],
   "source": [
    "# Question 1\n",
    "df.groupBy(\"classname\").count().withColumn(\"Percentage\",col(\"count\")/count*100).show()"
   ]
  },
  {
   "cell_type": "code",
   "execution_count": 278,
   "metadata": {},
   "outputs": [
    {
     "name": "stdout",
     "output_type": "stream",
     "text": [
      "+----+-----+\n",
      "|hour|count|\n",
      "+----+-----+\n",
      "|   7|67199|\n",
      "|  14|66812|\n",
      "|   8|65832|\n",
      "|  16|65370|\n",
      "|  17|59487|\n",
      "|  12|56581|\n",
      "|   9|55841|\n",
      "|  10|53002|\n",
      "|  13|51568|\n",
      "|  18|51192|\n",
      "|  11|47798|\n",
      "|   6|42262|\n",
      "|  15|40698|\n",
      "|  19|39545|\n",
      "|  20|30234|\n",
      "|  21|21773|\n",
      "|  22|16428|\n",
      "|   5|12235|\n",
      "|  23|12063|\n",
      "|   0| 5811|\n",
      "+----+-----+\n",
      "only showing top 20 rows\n",
      "\n"
     ]
    }
   ],
   "source": [
    "# Question 2\n",
    "x = df.filter(col(\"cosit\").isin(m50))\n",
    "x.groupBy(\"hour\").count().sort(\"count\",ascending=False).show()\n"
   ]
  },
  {
   "cell_type": "code",
   "execution_count": 275,
   "metadata": {},
   "outputs": [
    {
     "name": "stdout",
     "output_type": "stream",
     "text": [
      "+----+-----+-----------+\n",
      "|hour|count|Time Of Day|\n",
      "+----+-----+-----------+\n",
      "|   6|42262|    Morning|\n",
      "|   9|55841|    Morning|\n",
      "|   8|65832|    Morning|\n",
      "|   7|67199|    Morning|\n",
      "|  10|53002|    Morning|\n",
      "+----+-----+-----------+\n",
      "\n"
     ]
    }
   ],
   "source": [
    "# Question 3 # Morning\n",
    "df.filter((col(\"cosit\").isin(m50))&(df[\"hour\"] >= 6)&(df[\"hour\"] <= 10)).groupBy(\"hour\").count().withColumn(\"Time Of Day\",lit(\"Morning\")).show()"
   ]
  },
  {
   "cell_type": "code",
   "execution_count": 237,
   "metadata": {},
   "outputs": [
    {
     "name": "stdout",
     "output_type": "stream",
     "text": [
      "+----+-----+-----------+\n",
      "|hour|count|Time Of Day|\n",
      "+----+-----+-----------+\n",
      "|  16|65370|    Evening|\n",
      "|  20|30234|    Evening|\n",
      "|  19|39545|    Evening|\n",
      "|  17|59487|    Evening|\n",
      "|  18|51192|    Evening|\n",
      "+----+-----+-----------+\n",
      "\n"
     ]
    }
   ],
   "source": [
    "# Question 3 # Evening\n",
    "df.filter((col(\"cosit\").isin(m50))&(df[\"hour\"] >= 16)&(df[\"hour\"] <= 20)).groupBy(\"hour\").count().withColumn(\"Time Of Day\",lit(\"Evening\")).show()"
   ]
  },
  {
   "cell_type": "code",
   "execution_count": 239,
   "metadata": {},
   "outputs": [
    {
     "name": "stdout",
     "output_type": "stream",
     "text": [
      "+-----+-----------------+--------+\n",
      "|cosit|       avg(speed)|junction|\n",
      "+-----+-----------------+--------+\n",
      "| 1507|99.00845921450151| j13-j14|\n",
      "| 1500| 79.3267028425403|   j3-j4|\n",
      "| 1506|90.89604001118734| j12-j13|\n",
      "| 1505|85.31515519064502| j11-j12|\n",
      "| 1504|84.48510440700593| j10-j11|\n",
      "|15010|97.81252274326192| j14-j15|\n",
      "|15012|93.78990503959967| j16-j17|\n",
      "| 1509|78.43267256357605|  j9-j10|\n",
      "| 1502|87.70600667675384|   j5-j6|\n",
      "|15011|97.19775581634754| j15-j16|\n",
      "| 1501|87.25861183179634|   j4-j5|\n",
      "| 1503| 81.0891341051616|   j7-j9|\n",
      "| 1508|82.67599094114848|   j6-j7|\n",
      "| 1012| 78.5138596978229|   j2-j3|\n",
      "+-----+-----------------+--------+\n",
      "\n"
     ]
    }
   ],
   "source": [
    "# Question 4 \n",
    "x=df.filter(col(\"cosit\").isin(m50)).groupBy('cosit').avg('speed')\n",
    "names={15012:'j16-j17',15011:'j15-j16',15010:'j14-j15',1507:'j13-j14',1506:'j12-j13',1505:'j11-j12',1504:'j10-j11',1509:'j9-j10',1503:'j7-j9',1508:'j6-j7',1502:'j5-j6',1501:'j4-j5',1500:'j3-j4',1012:'j2-j3'}\n",
    "map_value=udf(lambda x:names[x], StringType())\n",
    "x.withColumn('junction',map_value(\"cosit\")).show()"
   ]
  },
  {
   "cell_type": "code",
   "execution_count": 229,
   "metadata": {},
   "outputs": [
    {
     "name": "stdout",
     "output_type": "stream",
     "text": [
      "+------+-----+--------------+\n",
      "| cosit|count|      location|\n",
      "+------+-----+--------------+\n",
      "|   997|11986|          Test|\n",
      "|  1508| 9630|   Castleknock|\n",
      "|  1015| 9462|      Donabate|\n",
      "|200723| 8977|       Kilteel|\n",
      "|  1502| 7922|       Finglas|\n",
      "|  1501| 7145|      Ballymun|\n",
      "|  1503| 6938|   Palmerstown|\n",
      "|  1071| 6259|     Kingswood|\n",
      "|  1070| 5850|Newlands Cross|\n",
      "|  1073| 5846|  VMS Citywest|\n",
      "+------+-----+--------------+\n",
      "\n"
     ]
    }
   ],
   "source": [
    "# Question 5\n",
    "x=df.filter(col(\"classname\").isin([\"HGV_ART\",\"HGV_RIG\"])).groupBy('cosit').count().sort(\"count\",ascending=False).limit(10)\n",
    "names={997:'Test',1508:'Castleknock',1015:'Donabate',200723:'Kilteel',1502:'Finglas',1501:'Ballymun',1503:'Palmerstown',1071:'Kingswood',1070:'Newlands Cross',1073:'VMS Citywest'}\n",
    "map_value=udf(lambda x:names[x], StringType())\n",
    "x.withColumn('location',map_value(\"cosit\")).show()"
   ]
  }
 ],
 "metadata": {
  "kernelspec": {
   "display_name": "Python 3",
   "language": "python",
   "name": "python3"
  },
  "language_info": {
   "codemirror_mode": {
    "name": "ipython",
    "version": 3
   },
   "file_extension": ".py",
   "mimetype": "text/x-python",
   "name": "python",
   "nbconvert_exporter": "python",
   "pygments_lexer": "ipython3",
   "version": "3.7.4"
  }
 },
 "nbformat": 4,
 "nbformat_minor": 4
}
